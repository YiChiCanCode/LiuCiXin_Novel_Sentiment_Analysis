{
  "nbformat": 4,
  "nbformat_minor": 0,
  "metadata": {
    "colab": {
      "name": "Liu Cixin NLP Project.ipynb",
      "provenance": []
    },
    "kernelspec": {
      "name": "python3",
      "display_name": "Python 3"
    },
    "language_info": {
      "name": "python"
    }
  },
  "cells": [
    {
      "cell_type": "markdown",
      "source": [
        "First import all the Afinn class from the afinn package (since Google Colab does not have afinn lib as defalut, \n",
        "we need the first line \"!pip install ...\""
      ],
      "metadata": {
        "id": "GDEEDGT-lEQ4"
      }
    },
    {
      "cell_type": "markdown",
      "source": [
        "This project is inspired by a blog written by Angelica Lo Duca, which is called Sentiment Analysis of a book through Unsupervised Learning (on medium)"
      ],
      "metadata": {
        "id": "-fWv8BhpVMuD"
      }
    },
    {
      "cell_type": "code",
      "execution_count": 15,
      "metadata": {
        "colab": {
          "base_uri": "https://localhost:8080/"
        },
        "id": "llYGrj75kkcJ",
        "outputId": "5ca14d27-cf99-4441-81ea-b334e3e91735"
      },
      "outputs": [
        {
          "output_type": "stream",
          "name": "stdout",
          "text": [
            "Looking in indexes: https://pypi.org/simple, https://us-python.pkg.dev/colab-wheels/public/simple/\n",
            "Requirement already satisfied: afinn in /usr/local/lib/python3.7/dist-packages (0.1)\n"
          ]
        }
      ],
      "source": [
        "!pip install afinn\n",
        "from afinn import Afinn"
      ]
    },
    {
      "cell_type": "markdown",
      "source": [
        "Then create a new Afinn object, specify the used language as English"
      ],
      "metadata": {
        "id": "NqjAm3H-lVNx"
      }
    },
    {
      "cell_type": "code",
      "source": [
        "afinn = Afinn(language='en')"
      ],
      "metadata": {
        "id": "q38s68walBKM"
      },
      "execution_count": 16,
      "outputs": []
    },
    {
      "cell_type": "markdown",
      "source": [
        "**Use the score give by Afinn to calculate the sentiment**\n",
        "\n",
        "\n",
        "---\n",
        "\n",
        "afinn object contains a method called score(), which receives the sentence as input and would return a score as output (can be postive/neutral/negative). We first define teh three indexes. "
      ],
      "metadata": {
        "id": "rweQGhhyljcL"
      }
    },
    {
      "cell_type": "code",
      "source": [
        "pos_index = []\n",
        "neg_index = []\n",
        "neutral_index = []"
      ],
      "metadata": {
        "id": "QyRLvYvRli0T"
      },
      "execution_count": 17,
      "outputs": []
    },
    {
      "cell_type": "markdown",
      "source": [
        "Open the file-> open()\n",
        "read all the lines -> file.readlines()"
      ],
      "metadata": {
        "id": "XvfYkZuQn8Zv"
      }
    },
    {
      "cell_type": "markdown",
      "source": [
        "At first encounter the problem of '‘utf8’ codec can’t decode byte 0xa5 in position 0: invalid start byte'"
      ],
      "metadata": {
        "id": "mv0lunP2rhlo"
      }
    },
    {
      "cell_type": "markdown",
      "source": [
        "Solved through converting the book into txt file"
      ],
      "metadata": {
        "id": "yDnlL3P5rooK"
      }
    },
    {
      "cell_type": "code",
      "source": [
        "\n",
        "for book in range(12):\n",
        "  file = open('/content/' + str(book) + '.txt')\n",
        "  lines = file.readlines()\n",
        "  pos = 0\n",
        "  neg = 0\n",
        "  neutral = 0\n",
        "  for line in lines:\n",
        "    score = int(afinn.score(line))        \n",
        "    if score > 0:\n",
        "      pos += 1\n",
        "    elif score < 0:\n",
        "      neg += 1\n",
        "    else:\n",
        "      neutral += 1\n",
        "  n = len(lines)\n",
        "  pos_i = (pos / n)\n",
        "  neg_i = (neg / n)\n",
        "  neutral_i = (neutral / n)\n",
        "  pos_index.append(pos_i)\n",
        "  neg_index.append(neg_i)\n",
        "  neutral_index.append(neutral_i)\n",
        "\n",
        "#now that we get a list of index, indicating how much negative/postive/neutral \n",
        "#lang Liuciixn has in his novel\n",
        "print(pos_index)\n",
        "print(neg_index)\n",
        "print(neutral_index)"
      ],
      "metadata": {
        "colab": {
          "base_uri": "https://localhost:8080/"
        },
        "id": "f_lXcBauoaHB",
        "outputId": "fddcbf7c-5146-4ada-9cd9-646d70f297d6"
      },
      "execution_count": 18,
      "outputs": [
        {
          "output_type": "stream",
          "name": "stdout",
          "text": [
            "[0.1582537517053206, 0.21961325966850828, 0.13114754098360656, 0.20689655172413793, 0.18192918192918192, 0.10150375939849623, 0.1736930860033727, 0.16621253405994552, 0.20502092050209206, 0.15950920245398773, 0.1444082519001086, 0.11864406779661017]\n",
            "[0.15688949522510232, 0.09806629834254144, 0.16830601092896175, 0.09283819628647215, 0.1391941391941392, 0.23308270676691728, 0.11298482293423272, 0.14577656675749318, 0.11297071129707113, 0.1165644171779141, 0.13246471226927253, 0.15254237288135594]\n",
            "[0.684856753069577, 0.6823204419889503, 0.7005464480874317, 0.7002652519893899, 0.6788766788766789, 0.6654135338345865, 0.7133220910623946, 0.6880108991825613, 0.6820083682008368, 0.7239263803680982, 0.7231270358306189, 0.7288135593220338]\n"
          ]
        }
      ]
    },
    {
      "cell_type": "code",
      "source": [
        "#now we are gonna plot it\n",
        "\n",
        "import matplotlib.pyplot as plt\n",
        "import numpy as np\n",
        "\n",
        "X = np.arange(1,13)\n",
        "plt.plot(X, pos_index, \"-\", label='pos')\n",
        "plt.plot(X, neg_index, \"--\", label='neg')\n",
        "plt.plot(X, neutral_index, \"-\", label='neu')\n",
        "plt.legend()\n",
        "plt.xticks(X)\n",
        "plt.xlabel('Novel Index')\n",
        "plt.ylabel('Ratio')\n",
        "plt.grid()\n",
        "plt.show()"
      ],
      "metadata": {
        "colab": {
          "base_uri": "https://localhost:8080/",
          "height": 279
        },
        "id": "qdnOUJrnSOCA",
        "outputId": "94bd3de6-641a-4518-a5d8-964be27a485a"
      },
      "execution_count": 20,
      "outputs": [
        {
          "output_type": "display_data",
          "data": {
            "text/plain": [
              "<Figure size 432x288 with 1 Axes>"
            ],
            "image/png": "[encoded data removed]"
          },
          "metadata": {
            "needs_background": "light"
          }
        }
      ]
    },
    {
      "cell_type": "code",
      "source": [
        "pos_book = 0\n",
        "neg_book = 0\n",
        "neutral_book = 0\n",
        "\n",
        "for book in range(12):\n",
        "  if(pos_index[book]<neg_index[book]):\n",
        "    neg_book += 1\n",
        "  if(pos_index[book]>neg_index[book]):\n",
        "    pos_book += 1\n",
        "  else:\n",
        "    neutral_book += 1\n",
        "\n",
        "print('The number of more positive novels is: ', pos_book,'/12')\n",
        "print('The number of more negative novels is: ', neg_book,'/12')\n",
        "print('The number of neutral novels is: ', neutral_book,'/12')"
      ],
      "metadata": {
        "colab": {
          "base_uri": "https://localhost:8080/"
        },
        "id": "ZKci7CN4UEf5",
        "outputId": "676862f2-9aa7-4d34-8e67-47ca75b9e54a"
      },
      "execution_count": 21,
      "outputs": [
        {
          "output_type": "stream",
          "name": "stdout",
          "text": [
            "The number of more positive novels is:  9 /12\n",
            "The number of more negative novels is:  3 /12\n",
            "The number of neutral novels is:  3 /12\n"
          ]
        }
      ]
    }
  ]
}